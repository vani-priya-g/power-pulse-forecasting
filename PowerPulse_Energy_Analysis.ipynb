{
 "cells": [
  {
   "cell_type": "code",
   "execution_count": null,
   "id": "bbb09e08",
   "metadata": {},
   "outputs": [],
   "source": [
    "import pandas as pd\n",
    "\n",
    "# Load the data\n",
    "file_path = r\"household_power_consumption.txt\"\n",
    "df = pd.read_csv(file_path, sep=';', low_memory=False)\n",
    "\n",
    "# Preview the data\n",
    "df.head()\n"
   ]
  },
  {
   "cell_type": "code",
   "execution_count": null,
   "id": "d7dfe253",
   "metadata": {},
   "outputs": [],
   "source": [
    "import pandas as pd\n",
    "\n",
    "# Step 1: Load the dataset\n",
    "file_path = \"household_power_consumption.txt\"\n",
    "df = pd.read_csv(file_path, sep=';', low_memory=False)\n",
    "\n",
    "# Step 2: Replace '?' with NaN\n",
    "df.replace('?', pd.NA, inplace=True)\n",
    "\n",
    "# Step 3: Convert relevant columns to float\n",
    "numeric_cols = ['Global_active_power', 'Global_reactive_power', 'Voltage',\n",
    "                'Global_intensity', 'Sub_metering_1', 'Sub_metering_2', 'Sub_metering_3']\n",
    "for col in numeric_cols:\n",
    "    df[col] = pd.to_numeric(df[col], errors='coerce')\n",
    "\n",
    "# Step 4: Create 'Datetime' column from 'Date' and 'Time'\n",
    "df['Datetime'] = pd.to_datetime(df['Date'] + ' ' + df['Time'], format='%d/%m/%Y %H:%M:%S')\n",
    "\n",
    "# Step 5: Set 'Datetime' as the index\n",
    "df.set_index('Datetime', inplace=True)\n",
    "\n",
    "# Step 6: Drop original 'Date' and 'Time' columns\n",
    "df.drop(columns=['Date', 'Time'], inplace=True)\n",
    "\n",
    "# Step 7: Drop rows with missing values\n",
    "df.dropna(inplace=True)\n",
    "\n",
    "# Step 8: Final check\n",
    "print(df.info())\n",
    "print(df.head())\n"
   ]
  },
  {
   "cell_type": "code",
   "execution_count": 6,
   "id": "2ca63e94",
   "metadata": {},
   "outputs": [],
   "source": [
    "# Save the cleaned full dataset\n",
    "df.to_csv(\"cleaned_power_data.csv\")\n"
   ]
  },
  {
   "cell_type": "code",
   "execution_count": 4,
   "id": "ac965f54",
   "metadata": {},
   "outputs": [],
   "source": [
    "import pandas as pd\n",
    "\n",
    "df = pd.read_csv('cleaned_power_data.csv')\n",
    "df['Datetime'] = pd.to_datetime(df['Datetime'])  # convert to datetime\n"
   ]
  },
  {
   "cell_type": "code",
   "execution_count": null,
   "id": "4ca7d073",
   "metadata": {},
   "outputs": [],
   "source": [
    "df_filled = df.fillna(method='ffill').fillna(method='bfill')\n"
   ]
  },
  {
   "cell_type": "code",
   "execution_count": 7,
   "id": "ec250355",
   "metadata": {},
   "outputs": [],
   "source": [
    "df_filled['Year'] = df_filled['Datetime'].dt.year\n",
    "df_filled['Month'] = df_filled['Datetime'].dt.month\n",
    "df_filled['Day'] = df_filled['Datetime'].dt.day\n",
    "df_filled['Hour'] = df_filled['Datetime'].dt.hour\n",
    "df_filled['Weekday'] = df_filled['Datetime'].dt.day_name()\n"
   ]
  },
  {
   "cell_type": "code",
   "execution_count": null,
   "id": "1075bd4f",
   "metadata": {},
   "outputs": [],
   "source": [
    "import matplotlib.pyplot as plt\n",
    "\n",
    "hourly_avg = df_filled.groupby('Hour')['Global_active_power'].mean()\n",
    "\n",
    "plt.figure(figsize=(12,6))\n",
    "plt.plot(hourly_avg.index, hourly_avg.values, marker='o', color='teal')\n",
    "plt.title('Average Global Active Power by Hour')\n",
    "plt.xlabel('Hour of Day')\n",
    "plt.ylabel('Avg Global Active Power (kW)')\n",
    "plt.grid(True)\n",
    "plt.tight_layout()\n",
    "plt.show()\n"
   ]
  },
  {
   "cell_type": "code",
   "execution_count": null,
   "id": "08d7b775",
   "metadata": {},
   "outputs": [],
   "source": [
    "df_filled.set_index('Datetime')['Global_active_power'].resample('D').mean().plot(figsize=(14,6), title='Daily Average Power Usage', ylabel='kW')\n",
    "plt.show()\n"
   ]
  },
  {
   "cell_type": "code",
   "execution_count": null,
   "id": "11a27efc",
   "metadata": {},
   "outputs": [],
   "source": [
    "import seaborn as sns\n",
    "import matplotlib.pyplot as plt\n",
    "\n",
    "# Select only numeric columns\n",
    "numeric_df = df_filled.select_dtypes(include=[float, int])\n",
    "\n",
    "# Plot the heatmap for numeric columns only\n",
    "plt.figure(figsize=(10, 6))\n",
    "sns.heatmap(numeric_df.corr(), annot=True, cmap='coolwarm', fmt=\".2f\")\n",
    "plt.title(\"Correlation Heatmap\")\n",
    "plt.show()\n"
   ]
  },
  {
   "cell_type": "code",
   "execution_count": null,
   "id": "8f43783c",
   "metadata": {},
   "outputs": [],
   "source": [
    "sns.boxplot(x='Weekday', y='Global_active_power', data=df_filled)\n",
    "plt.xticks(rotation=45)\n",
    "plt.title('Power Usage by Weekday')\n",
    "plt.show()\n"
   ]
  },
  {
   "cell_type": "code",
   "execution_count": null,
   "id": "556db86f",
   "metadata": {},
   "outputs": [],
   "source": [
    "import pandas as pd\n",
    "\n",
    "df = pd.read_csv(\"cleaned_power_data.csv\")  # Replace with your file\n",
    "print(\"Shape:\", df.shape)\n",
    "print(\"Columns:\", df.columns.tolist())\n",
    "print(df.dtypes)\n",
    "df.head()\n"
   ]
  },
  {
   "cell_type": "code",
   "execution_count": null,
   "id": "d3d551a1",
   "metadata": {},
   "outputs": [],
   "source": [
    "missing_values = df.isnull().sum()\n",
    "missing_percent = (missing_values / len(df)) * 100\n",
    "missing_df = pd.DataFrame({'Missing Values': missing_values, 'Percent': missing_percent})\n",
    "missing_df[missing_df['Missing Values'] > 0]\n"
   ]
  },
  {
   "cell_type": "code",
   "execution_count": null,
   "id": "5a2c0dc3",
   "metadata": {},
   "outputs": [],
   "source": [
    "df_cleaned = df.dropna()\n",
    "print(\"New shape after dropna:\", df_cleaned.shape)\n"
   ]
  },
  {
   "cell_type": "code",
   "execution_count": null,
   "id": "bec140c2",
   "metadata": {},
   "outputs": [],
   "source": [
    "df.describe(include='object')\n"
   ]
  },
  {
   "cell_type": "code",
   "execution_count": null,
   "id": "4b459a4d",
   "metadata": {},
   "outputs": [],
   "source": [
    "duplicate_count = df.duplicated().sum()\n",
    "print(\"Number of duplicate rows:\", duplicate_count)\n"
   ]
  },
  {
   "cell_type": "code",
   "execution_count": null,
   "id": "e1182520",
   "metadata": {},
   "outputs": [],
   "source": [
    "import numpy as np  # Make sure this line is included\n",
    "\n",
    "# Select only numeric columns\n",
    "numeric_data = df.select_dtypes(include=[np.number])\n",
    "\n",
    "# Skewness and Kurtosis\n",
    "print(\"Skewness:\\n\", numeric_data.skew())\n",
    "print(\"\\nKurtosis:\\n\", numeric_data.kurt())\n"
   ]
  },
  {
   "cell_type": "code",
   "execution_count": null,
   "id": "93d3af9f",
   "metadata": {},
   "outputs": [],
   "source": [
    "import seaborn as sns\n",
    "import matplotlib.pyplot as plt\n",
    "\n",
    "features = ['Global_active_power', 'Global_reactive_power', 'Voltage']\n",
    "\n",
    "for feature in features:\n",
    "    plt.figure(figsize=(8,4))\n",
    "    sns.histplot(data[feature], kde=True, color='orange')\n",
    "    plt.title(f'{feature} | Skew: {data[feature].skew():.2f}, Kurtosis: {data[feature].kurt():.2f}')\n",
    "    plt.xlabel(feature)\n",
    "    plt.ylabel(\"Frequency\")\n",
    "    plt.show()\n"
   ]
  },
  {
   "cell_type": "code",
   "execution_count": null,
   "id": "7f5e9ce0",
   "metadata": {},
   "outputs": [],
   "source": [
    "def detect_outliers_iqr(data, column):\n",
    "    Q1 = data[column].quantile(0.25)\n",
    "    Q3 = data[column].quantile(0.75)\n",
    "    IQR = Q3 - Q1\n",
    "    outliers = data[(data[column] < Q1 - 1.5 * IQR) | (data[column] > Q3 + 1.5 * IQR)]\n",
    "    return outliers\n",
    "\n",
    "for col in df.select_dtypes(include=['float64', 'int64']):\n",
    "    outliers = detect_outliers_iqr(df, col)\n",
    "    print(f\"{col}: {len(outliers)} outliers\")\n"
   ]
  },
  {
   "cell_type": "code",
   "execution_count": null,
   "id": "2d713415",
   "metadata": {},
   "outputs": [],
   "source": [
    "correlation_matrix = df.corr(numeric_only=True)\n",
    "print(correlation_matrix)\n"
   ]
  },
  {
   "cell_type": "code",
   "execution_count": 29,
   "id": "257d370e",
   "metadata": {},
   "outputs": [],
   "source": [
    "# Example: Average numeric value by a category (replace as needed)\n",
    "if 'CategoryColumn' in df.columns:\n",
    "    print(df.groupby('CategoryColumn').mean(numeric_only=True))\n"
   ]
  },
  {
   "cell_type": "code",
   "execution_count": 25,
   "id": "b83f7530",
   "metadata": {},
   "outputs": [],
   "source": [
    "if 'date' in df.columns or 'Date' in df.columns:\n",
    "    df['Date'] = pd.to_datetime(df['Date'])\n",
    "    df['Year'] = df['Date'].dt.year\n",
    "    df['Month'] = df['Date'].dt.month\n",
    "    df['DayOfWeek'] = df['Date'].dt.day_name()\n",
    "    print(df[['Date', 'Year', 'Month', 'DayOfWeek']].head())\n"
   ]
  },
  {
   "cell_type": "code",
   "execution_count": 30,
   "id": "350f540e",
   "metadata": {},
   "outputs": [],
   "source": [
    "df['RollingAvg_7days'] = df['Global_active_power'].rolling(window=7).mean()  # Example of a 7-day rolling average\n"
   ]
  },
  {
   "cell_type": "code",
   "execution_count": 8,
   "id": "39d0380a",
   "metadata": {},
   "outputs": [],
   "source": [
    "import pandas as pd\n",
    "df = pd.read_csv('cleaned_power_data.csv')\n",
    "\n"
   ]
  },
  {
   "cell_type": "code",
   "execution_count": 38,
   "id": "02cd1d36",
   "metadata": {},
   "outputs": [],
   "source": [
    "# Merge weather data with your energy data\n",
    "cleaned_power_data = pd.read_csv('cleaned_power_data.csv')\n",
    "df = pd.merge(df, cleaned_power_data, on='Datetime', how='left')\n"
   ]
  },
  {
   "cell_type": "code",
   "execution_count": null,
   "id": "19cad2cd",
   "metadata": {},
   "outputs": [],
   "source": [
    "print(df.columns)\n"
   ]
  },
  {
   "cell_type": "code",
   "execution_count": null,
   "id": "2f801e1b",
   "metadata": {},
   "outputs": [],
   "source": [
    "print(df.head())  # Check the first few rows to see if the column exists\n"
   ]
  },
  {
   "cell_type": "code",
   "execution_count": 4,
   "id": "a37b7268",
   "metadata": {},
   "outputs": [],
   "source": [
    "# Use the '_x' version of the columns\n",
    "df = df.rename(columns={\n",
    "    'Global_active_power_x': 'Global_active_power',\n",
    "    'Global_reactive_power_x': 'Global_reactive_power',\n",
    "    'Voltage_x': 'Voltage',\n",
    "    'Global_intensity_x': 'Global_intensity',\n",
    "    'Sub_metering_1_x': 'Sub_metering_1',\n",
    "    'Sub_metering_2_x': 'Sub_metering_2',\n",
    "    'Sub_metering_3_x': 'Sub_metering_3'\n",
    "})\n"
   ]
  },
  {
   "cell_type": "code",
   "execution_count": 5,
   "id": "608d961b",
   "metadata": {},
   "outputs": [],
   "source": [
    "X = df.drop(columns=['Global_active_power', 'Datetime'])  # Features\n",
    "y = df['Global_active_power']  # Target variable\n"
   ]
  },
  {
   "cell_type": "code",
   "execution_count": 7,
   "id": "e8b860c4",
   "metadata": {},
   "outputs": [],
   "source": [
    "from sklearn.model_selection import train_test_split\n",
    "\n",
    "X_train, X_test, y_train, y_test = train_test_split(\n",
    "    X, y, test_size=0.2, random_state=42\n",
    ")\n"
   ]
  },
  {
   "cell_type": "code",
   "execution_count": 9,
   "id": "c34e8937",
   "metadata": {},
   "outputs": [],
   "source": [
    "# Drop rows with NaN values in features or target\n",
    "df_clean = df.dropna()\n",
    "\n",
    "# Redefine X and y\n",
    "X = df_clean.drop(columns=['Global_active_power', 'Datetime'])\n",
    "y = df_clean['Global_active_power']\n"
   ]
  },
  {
   "cell_type": "code",
   "execution_count": 12,
   "id": "a3d2998a",
   "metadata": {},
   "outputs": [],
   "source": [
    "from sklearn.impute import SimpleImputer\n",
    "\n",
    "# Define your features and target\n",
    "X = df.drop(columns=['Global_active_power', 'Datetime'])\n",
    "y = df['Global_active_power']\n",
    "\n",
    "# Fill missing values using mean strategy\n",
    "imputer = SimpleImputer(strategy='mean')\n",
    "X_imputed = imputer.fit_transform(X)\n",
    "\n"
   ]
  },
  {
   "cell_type": "code",
   "execution_count": null,
   "id": "d19ab128",
   "metadata": {},
   "outputs": [],
   "source": [
    "# Drop rows where y (target) is NaN\n",
    "df_clean = df.dropna(subset=['Global_active_power'])\n",
    "\n",
    "# Define X and y again from the cleaned DataFrame\n",
    "X = df_clean.drop(columns=['Global_active_power', 'Datetime'])\n",
    "y = df_clean['Global_active_power']\n",
    "\n",
    "# Impute missing values in X\n",
    "from sklearn.impute import SimpleImputer\n",
    "imputer = SimpleImputer(strategy='mean')\n",
    "X_imputed = imputer.fit_transform(X)\n",
    "\n",
    "# Now you can fit the model\n",
    "from sklearn.linear_model import LinearRegression\n",
    "lr1 = LinearRegression()\n",
    "lr1.fit(X_imputed, y)\n"
   ]
  },
  {
   "cell_type": "code",
   "execution_count": 5,
   "id": "97dcccd5",
   "metadata": {},
   "outputs": [
    {
     "name": "stdout",
     "output_type": "stream",
     "text": [
      "Linear Regression Performance:\n",
      "RMSE: 0.0406\n",
      "MAE: 0.0259\n",
      "R-squared: 0.9985\n"
     ]
    }
   ],
   "source": [
    "from sklearn.metrics import mean_squared_error, mean_absolute_error, r2_score\n",
    "from numpy import sqrt\n",
    "\n",
    "y_pred = lr1.predict(X_imputed)\n",
    "\n",
    "rmse = sqrt(mean_squared_error(y, y_pred))  # RMSE calculated manually\n",
    "mae = mean_absolute_error(y, y_pred)\n",
    "r2 = r2_score(y, y_pred)\n",
    "\n",
    "print(f\"Linear Regression Performance:\")\n",
    "print(f\"RMSE: {rmse:.4f}\")\n",
    "print(f\"MAE: {mae:.4f}\")\n",
    "print(f\"R-squared: {r2:.4f}\")\n"
   ]
  },
  {
   "cell_type": "code",
   "execution_count": 18,
   "id": "3f76ce3b",
   "metadata": {},
   "outputs": [
    {
     "name": "stdout",
     "output_type": "stream",
     "text": [
      "Random Forest Performance:\n",
      "RMSE: 0.0148\n",
      "MAE: 0.0087\n",
      "R-squared: 0.9998\n"
     ]
    }
   ],
   "source": [
    "from sklearn.metrics import mean_squared_error, mean_absolute_error, r2_score\n",
    "import numpy as np\n",
    "\n",
    "# RMSE manually calculated\n",
    "rmse_rf = np.sqrt(mean_squared_error(y, y_pred_rf))\n",
    "mae_rf = mean_absolute_error(y, y_pred_rf)\n",
    "r2_rf = r2_score(y, y_pred_rf)\n",
    "\n",
    "print(f\"Random Forest Performance:\\nRMSE: {rmse_rf:.4f}\\nMAE: {mae_rf:.4f}\\nR-squared: {r2_rf:.4f}\")\n"
   ]
  },
  {
   "cell_type": "code",
   "execution_count": 20,
   "id": "18777331",
   "metadata": {},
   "outputs": [
    {
     "name": "stdout",
     "output_type": "stream",
     "text": [
      "Gradient Boosting Performance:\n",
      "RMSE: 0.0345\n",
      "MAE: 0.0216\n",
      "R-squared: 0.9989\n"
     ]
    }
   ],
   "source": [
    "from sklearn.metrics import mean_squared_error, mean_absolute_error, r2_score\n",
    "import numpy as np\n",
    "\n",
    "# Use squared=True (default), then take the square root manually\n",
    "mse = mean_squared_error(y, y_pred_gb)\n",
    "rmse_gb = np.sqrt(mse)\n",
    "mae_gb = mean_absolute_error(y, y_pred_gb)\n",
    "r2_gb = r2_score(y, y_pred_gb)\n",
    "\n",
    "print(f\"Gradient Boosting Performance:\")\n",
    "print(f\"RMSE: {rmse_gb:.4f}\")\n",
    "print(f\"MAE: {mae_gb:.4f}\")\n",
    "print(f\"R-squared: {r2_gb:.4f}\")\n"
   ]
  },
  {
   "cell_type": "code",
   "execution_count": 21,
   "id": "9de44321",
   "metadata": {},
   "outputs": [
    {
     "data": {
      "image/png": "[encoded data removed]",
      "text/plain": [
       "<Figure size 1800x500 with 3 Axes>"
      ]
     },
     "metadata": {},
     "output_type": "display_data"
    }
   ],
   "source": [
    "import matplotlib.pyplot as plt\n",
    "\n",
    "# Predictions\n",
    "y_pred_lr = lr.predict(X_imputed)\n",
    "y_pred_rf = rf.predict(X_imputed)\n",
    "y_pred_gb = gb.predict(X_imputed)\n",
    "\n",
    "# Plotting\n",
    "plt.figure(figsize=(18, 5))\n",
    "\n",
    "# Linear Regression\n",
    "plt.subplot(1, 3, 1)\n",
    "plt.scatter(y, y_pred_lr, alpha=0.5, color='blue')\n",
    "plt.plot([y.min(), y.max()], [y.min(), y.max()], 'k--', lw=2)\n",
    "plt.xlabel(\"Actual\")\n",
    "plt.ylabel(\"Predicted\")\n",
    "plt.title(\"Linear Regression\")\n",
    "\n",
    "# Random Forest\n",
    "plt.subplot(1, 3, 2)\n",
    "plt.scatter(y, y_pred_rf, alpha=0.5, color='green')\n",
    "plt.plot([y.min(), y.max()], [y.min(), y.max()], 'k--', lw=2)\n",
    "plt.xlabel(\"Actual\")\n",
    "plt.ylabel(\"Predicted\")\n",
    "plt.title(\"Random Forest\")\n",
    "\n",
    "# Gradient Boosting\n",
    "plt.subplot(1, 3, 3)\n",
    "plt.scatter(y, y_pred_gb, alpha=0.5, color='orange')\n",
    "plt.plot([y.min(), y.max()], [y.min(), y.max()], 'k--', lw=2)\n",
    "plt.xlabel(\"Actual\")\n",
    "plt.ylabel(\"Predicted\")\n",
    "plt.title(\"Gradient Boosting\")\n",
    "\n",
    "plt.tight_layout()\n",
    "plt.show()\n"
   ]
  },
  {
   "cell_type": "code",
   "execution_count": 6,
   "id": "8909148e",
   "metadata": {},
   "outputs": [],
   "source": [
    "import pickle\n",
    "with open(\"model.pkl\",\"wb\") as f:\n",
    "    pickle.dump(lr1,f)"
   ]
  },
  {
   "cell_type": "code",
   "execution_count": 7,
   "id": "63b248f9",
   "metadata": {},
   "outputs": [],
   "source": [
    "# Save this in a separate file or run once in a notebook\n",
    "import pandas as pd\n",
    "import numpy as np\n",
    "from sklearn.linear_model import LinearRegression\n",
    "from sklearn.impute import SimpleImputer\n",
    "import pickle\n",
    "\n",
    "df = pd.read_csv(\"cleaned_power_data.csv\")\n",
    "df = df.select_dtypes(include=[np.number])\n",
    "df = df.dropna(subset=[\"Global_active_power\"])\n",
    "\n",
    "X = df.drop(\"Global_active_power\", axis=1)\n",
    "y = df[\"Global_active_power\"]\n",
    "\n",
    "imputer = SimpleImputer(strategy=\"mean\")\n",
    "X_imputed = imputer.fit_transform(X)\n",
    "\n",
    "model = LinearRegression()\n",
    "model.fit(X_imputed, y)\n",
    "\n",
    "# Save both model and imputer\n",
    "with open(\"model.pkl\", \"wb\") as f:\n",
    "    pickle.dump((model, imputer, list(X.columns)), f)\n"
   ]
  },
  {
   "cell_type": "code",
   "execution_count": 8,
   "id": "3fbcd1b6",
   "metadata": {},
   "outputs": [
    {
     "name": "stdout",
     "output_type": "stream",
     "text": [
      "Fitting 5 folds for each of 8 candidates, totalling 40 fits\n",
      "Best Hyperparameters: {'max_depth': None, 'n_estimators': 10}\n",
      "Test MSE: 0.0011\n"
     ]
    }
   ],
   "source": [
    "from sklearn.ensemble import RandomForestRegressor\n",
    "from sklearn.model_selection import GridSearchCV, train_test_split\n",
    "from sklearn.metrics import mean_squared_error\n",
    "import pandas as pd\n",
    "\n",
    "# Sample data: replace with your dataset\n",
    "# X = features, y = target variable\n",
    "# For example:\n",
    "# X, y = your_data.drop('target', axis=1), your_data['target']\n",
    "\n",
    "# Split data\n",
    "X_train, X_test, y_train, y_test = train_test_split(X, y, test_size=0.2, random_state=42)\n",
    "\n",
    "# Initialize Random Forest model\n",
    "rf = RandomForestRegressor(random_state=42)\n",
    "\n",
    "# Define hyperparameter grid to search\n",
    "param_grid = {\n",
    "    'n_estimators': [5, 10],           # number of trees\n",
    "    'max_depth': [None, 2, 4, 6]         # max depth of trees\n",
    "}\n",
    "\n",
    "# Setup GridSearchCV\n",
    "grid_search = GridSearchCV(estimator=rf,\n",
    "                           param_grid=param_grid,\n",
    "                           cv=5,                # 5-fold cross-validation\n",
    "                           n_jobs=-1,           # use all processors\n",
    "                           scoring='neg_mean_squared_error',\n",
    "                           verbose=2)\n",
    "\n",
    "# Fit grid search to data\n",
    "grid_search.fit(X_train, y_train)\n",
    "\n",
    "# Best hyperparameters\n",
    "print(\"Best Hyperparameters:\", grid_search.best_params_)\n",
    "\n",
    "# Best model\n",
    "best_rf = grid_search.best_estimator_\n",
    "\n",
    "# Predict and evaluate on test set\n",
    "y_pred = best_rf.predict(X_test)\n",
    "mse = mean_squared_error(y_test, y_pred)\n",
    "print(f\"Test MSE: {mse:.4f}\")\n"
   ]
  }
 ],
 "metadata": {
  "kernelspec": {
   "display_name": "Python 3",
   "language": "python",
   "name": "python3"
  },
  "language_info": {
   "codemirror_mode": {
    "name": "ipython",
    "version": 3
   },
   "file_extension": ".py",
   "mimetype": "text/x-python",
   "name": "python",
   "nbconvert_exporter": "python",
   "pygments_lexer": "ipython3",
   "version": "3.13.3"
  }
 },
 "nbformat": 4,
 "nbformat_minor": 5
}
